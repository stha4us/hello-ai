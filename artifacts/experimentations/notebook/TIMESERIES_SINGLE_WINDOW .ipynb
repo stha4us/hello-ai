{
 "cells": [
  {
   "cell_type": "code",
   "execution_count": 124,
   "metadata": {},
   "outputs": [],
   "source": [
    "# from os import getenv\n",
    "import pymssql\n",
    "import pandas as pd\n",
    "# print(pymssql.__version__)\n",
    "server = \"41.221.51.164\"\n",
    "user = \"sa\"\n",
    "password = \"X$OUDDVC8)\"\n",
    "database = \"eOXEGEN\"\n",
    "prev_database = \"eOXEGEN_P\"\n",
    "pd.set_option(\"display.max_columns\", 150)"
   ]
  },
  {
   "cell_type": "code",
   "execution_count": 125,
   "metadata": {},
   "outputs": [],
   "source": [
    "#Defining the connection for current database\n",
    "con = pymssql.connect(server, user, password, database)\n",
    "cursor = con.cursor()"
   ]
  },
  {
   "cell_type": "markdown",
   "metadata": {},
   "source": [
    "### <p>We would check the specific records out of all the claims based on the claim_id, membership_no and policy_code.</p>  "
   ]
  },
  {
   "cell_type": "code",
   "execution_count": 126,
   "metadata": {},
   "outputs": [],
   "source": [
    "# This is the query section\n",
    "query=\"\"\"SELECT CLAIMED_AMOUNT, ENTRY_TIME FROM eOXEGEN.dbo.INS_RC_CLAIM_INWARD WHERE CLAIMED_AMOUNT>0 AND \n",
    "CLAIM_IS_ACTIVE=1 AND INS_COMP_ID='2017070311422763433871010' \"\"\"\n",
    "\n",
    "query_p=\"\"\"SELECT CLAIMED_AMOUNT, ENTRY_TIME FROM eOXEGEN_P.dbo.INS_RC_CLAIM_INWARD WHERE CLAIMED_AMOUNT>0 AND \n",
    "CLAIM_IS_ACTIVE=1 AND INS_COMP_ID ='2013103010013740490475574' \"\"\"\n"
   ]
  },
  {
   "cell_type": "code",
   "execution_count": 127,
   "metadata": {},
   "outputs": [],
   "source": [
    "cursor.execute(query)\n",
    "df1 = pd.read_sql(query, con)\n",
    "con.close()\n",
    "#Defining the connection for the previous database\n",
    "con_p = pymssql.connect(server, user, password, prev_database)\n",
    "cursor_p= con_p.cursor()\n",
    "cursor_p.execute(query_p)\n",
    "df2=pd.read_sql(query_p,con_p)\n",
    "con_p.close()\n",
    "# print (time.clock() - start_time, \"df seconds\", type(df))\n"
   ]
  },
  {
   "cell_type": "code",
   "execution_count": 128,
   "metadata": {},
   "outputs": [
    {
     "name": "stdout",
     "output_type": "stream",
     "text": [
      "The length of df1 is 182713 and df2 is 587849\n"
     ]
    }
   ],
   "source": [
    "print(\"The length of df1 is {} and df2 is {}\".format(len(df1),len(df2)))"
   ]
  },
  {
   "cell_type": "code",
   "execution_count": 129,
   "metadata": {},
   "outputs": [],
   "source": [
    "# Backup dataframe incase to work offline\n",
    "dn=df1.copy()\n",
    "do=df2.copy()"
   ]
  },
  {
   "cell_type": "code",
   "execution_count": 130,
   "metadata": {},
   "outputs": [],
   "source": [
    "df1=dn\n",
    "df2=do"
   ]
  },
  {
   "cell_type": "code",
   "execution_count": 131,
   "metadata": {},
   "outputs": [],
   "source": [
    "df2.index=range(len(df1),len(df1)+len(df2))"
   ]
  },
  {
   "cell_type": "code",
   "execution_count": 132,
   "metadata": {},
   "outputs": [],
   "source": [
    "concating=[df1,df2]\n",
    "df=pd.concat(concating)"
   ]
  },
  {
   "cell_type": "code",
   "execution_count": 133,
   "metadata": {},
   "outputs": [],
   "source": [
    "dff=df.copy()"
   ]
  },
  {
   "cell_type": "code",
   "execution_count": 134,
   "metadata": {},
   "outputs": [],
   "source": [
    "dff['ENTRY_TIME'] = pd.to_datetime(dff['ENTRY_TIME'], format='%Y-%m-%d HH:MM:SSSSSS').dt.strftime(date_format='%Y-%m-%d')"
   ]
  },
  {
   "cell_type": "code",
   "execution_count": 135,
   "metadata": {},
   "outputs": [],
   "source": [
    "dff['CLAIMED_SUM'] = dff['CLAIMED_AMOUNT'].groupby(dff['ENTRY_TIME']).transform('sum')"
   ]
  },
  {
   "cell_type": "code",
   "execution_count": 136,
   "metadata": {},
   "outputs": [],
   "source": [
    "dff = dff.drop(columns=['CLAIMED_AMOUNT',],axis=1)"
   ]
  },
  {
   "cell_type": "code",
   "execution_count": 137,
   "metadata": {},
   "outputs": [],
   "source": [
    "dff = dff.drop_duplicates(keep='first')"
   ]
  },
  {
   "cell_type": "code",
   "execution_count": 138,
   "metadata": {},
   "outputs": [],
   "source": [
    "# print (dff.groupby(['ENTRY_TIME']).size())"
   ]
  },
  {
   "cell_type": "code",
   "execution_count": 139,
   "metadata": {},
   "outputs": [],
   "source": [
    "# dff['ENTRY_TIME'] = pd.to_datetime(dff['ENTRY_TIME'], format='%Y-%m-%d HH:MM:SSSSSS').dt.strftime(date_format='%Y-%m-%d')\n",
    "dff=dff.sort_values(by=['ENTRY_TIME'])\n",
    "dff['ENTRY_TIME'] = pd.to_datetime(dff['ENTRY_TIME'])\n",
    "# dff.head(4)"
   ]
  },
  {
   "cell_type": "code",
   "execution_count": 140,
   "metadata": {},
   "outputs": [
    {
     "data": {
      "text/html": [
       "<div>\n",
       "<style scoped>\n",
       "    .dataframe tbody tr th:only-of-type {\n",
       "        vertical-align: middle;\n",
       "    }\n",
       "\n",
       "    .dataframe tbody tr th {\n",
       "        vertical-align: top;\n",
       "    }\n",
       "\n",
       "    .dataframe thead th {\n",
       "        text-align: right;\n",
       "    }\n",
       "</style>\n",
       "<table border=\"1\" class=\"dataframe\">\n",
       "  <thead>\n",
       "    <tr style=\"text-align: right;\">\n",
       "      <th></th>\n",
       "      <th>ENTRY_TIME</th>\n",
       "      <th>CLAIMED_SUM</th>\n",
       "    </tr>\n",
       "  </thead>\n",
       "  <tbody>\n",
       "    <tr>\n",
       "      <th>569668</th>\n",
       "      <td>2016-04-07</td>\n",
       "      <td>183800.00</td>\n",
       "    </tr>\n",
       "    <tr>\n",
       "      <th>572384</th>\n",
       "      <td>2016-04-08</td>\n",
       "      <td>6786600.00</td>\n",
       "    </tr>\n",
       "    <tr>\n",
       "      <th>576598</th>\n",
       "      <td>2016-04-09</td>\n",
       "      <td>3702000.00</td>\n",
       "    </tr>\n",
       "    <tr>\n",
       "      <th>576644</th>\n",
       "      <td>2016-04-11</td>\n",
       "      <td>7146424.94</td>\n",
       "    </tr>\n",
       "    <tr>\n",
       "      <th>185257</th>\n",
       "      <td>2016-04-12</td>\n",
       "      <td>9668139.29</td>\n",
       "    </tr>\n",
       "  </tbody>\n",
       "</table>\n",
       "</div>"
      ],
      "text/plain": [
       "       ENTRY_TIME  CLAIMED_SUM\n",
       "569668 2016-04-07    183800.00\n",
       "572384 2016-04-08   6786600.00\n",
       "576598 2016-04-09   3702000.00\n",
       "576644 2016-04-11   7146424.94\n",
       "185257 2016-04-12   9668139.29"
      ]
     },
     "execution_count": 140,
     "metadata": {},
     "output_type": "execute_result"
    }
   ],
   "source": [
    "dff.head()"
   ]
  },
  {
   "cell_type": "code",
   "execution_count": 141,
   "metadata": {},
   "outputs": [
    {
     "name": "stdout",
     "output_type": "stream",
     "text": [
      "<class 'pandas.core.frame.DataFrame'>\n",
      "Int64Index: 1063 entries, 569668 to 674314\n",
      "Data columns (total 2 columns):\n",
      "ENTRY_TIME     1063 non-null datetime64[ns]\n",
      "CLAIMED_SUM    1063 non-null float64\n",
      "dtypes: datetime64[ns](1), float64(1)\n",
      "memory usage: 24.9 KB\n",
      "1063\n"
     ]
    }
   ],
   "source": [
    "# dff.describe()\n",
    "dff.info()\n",
    "print(len(dff))"
   ]
  },
  {
   "cell_type": "code",
   "execution_count": 142,
   "metadata": {},
   "outputs": [],
   "source": [
    "dff['CLAIM_DATE'] = dff['ENTRY_TIME'].apply(lambda x:x.strftime('%Y-%m'))"
   ]
  },
  {
   "cell_type": "code",
   "execution_count": 143,
   "metadata": {},
   "outputs": [],
   "source": [
    "dff['CLAIM_DATE'] = pd.to_datetime(dff['CLAIM_DATE'])"
   ]
  },
  {
   "cell_type": "code",
   "execution_count": 144,
   "metadata": {},
   "outputs": [
    {
     "data": {
      "text/html": [
       "<div>\n",
       "<style scoped>\n",
       "    .dataframe tbody tr th:only-of-type {\n",
       "        vertical-align: middle;\n",
       "    }\n",
       "\n",
       "    .dataframe tbody tr th {\n",
       "        vertical-align: top;\n",
       "    }\n",
       "\n",
       "    .dataframe thead th {\n",
       "        text-align: right;\n",
       "    }\n",
       "</style>\n",
       "<table border=\"1\" class=\"dataframe\">\n",
       "  <thead>\n",
       "    <tr style=\"text-align: right;\">\n",
       "      <th></th>\n",
       "      <th>ENTRY_TIME</th>\n",
       "      <th>CLAIMED_SUM</th>\n",
       "      <th>CLAIM_DATE</th>\n",
       "    </tr>\n",
       "  </thead>\n",
       "  <tbody>\n",
       "    <tr>\n",
       "      <th>569668</th>\n",
       "      <td>2016-04-07</td>\n",
       "      <td>183800.00</td>\n",
       "      <td>2016-04-01</td>\n",
       "    </tr>\n",
       "    <tr>\n",
       "      <th>572384</th>\n",
       "      <td>2016-04-08</td>\n",
       "      <td>6786600.00</td>\n",
       "      <td>2016-04-01</td>\n",
       "    </tr>\n",
       "    <tr>\n",
       "      <th>576598</th>\n",
       "      <td>2016-04-09</td>\n",
       "      <td>3702000.00</td>\n",
       "      <td>2016-04-01</td>\n",
       "    </tr>\n",
       "    <tr>\n",
       "      <th>576644</th>\n",
       "      <td>2016-04-11</td>\n",
       "      <td>7146424.94</td>\n",
       "      <td>2016-04-01</td>\n",
       "    </tr>\n",
       "    <tr>\n",
       "      <th>185257</th>\n",
       "      <td>2016-04-12</td>\n",
       "      <td>9668139.29</td>\n",
       "      <td>2016-04-01</td>\n",
       "    </tr>\n",
       "  </tbody>\n",
       "</table>\n",
       "</div>"
      ],
      "text/plain": [
       "       ENTRY_TIME  CLAIMED_SUM CLAIM_DATE\n",
       "569668 2016-04-07    183800.00 2016-04-01\n",
       "572384 2016-04-08   6786600.00 2016-04-01\n",
       "576598 2016-04-09   3702000.00 2016-04-01\n",
       "576644 2016-04-11   7146424.94 2016-04-01\n",
       "185257 2016-04-12   9668139.29 2016-04-01"
      ]
     },
     "execution_count": 144,
     "metadata": {},
     "output_type": "execute_result"
    }
   ],
   "source": [
    "dff.head()\n",
    "# import matplotlib.pyplot as plt\n",
    "# plt.style.use('ggplot')\n",
    "# %matplotlib inline\n",
    "# dff['ENTRY_TIME'] = pd.to_datetime(dff['ENTRY_TIME'])\n",
    "# dff=dff.groupby(dff['ENTRY_TIME'].dt.strftime('%Y-%m-%d'))['CLAIMED_SUM'].sum()#.sort_values()\n",
    "# dff.plot()"
   ]
  },
  {
   "cell_type": "code",
   "execution_count": 145,
   "metadata": {},
   "outputs": [],
   "source": [
    "# import matplotlib.pyplot as plt\n",
    "# plt.style.use('ggplot')\n",
    "# %matplotlib inline\n",
    "# df['ENTRY_TIME'] = pd.to_datetime(df['ENTRY_TIME'])\n",
    "# df=df.groupby(df['ENTRY_TIME'].dt.strftime('%Y-%m-%d'))['CLAIMED_AMOUNT'].sum()#.sort_values()\n",
    "# print(df.head())\n",
    "# df.plot()\n",
    "dff['CLAIM_AMOUNT'] = dff['CLAIMED_SUM'].groupby(dff['CLAIM_DATE']).transform('sum')\n",
    "df = dff.drop(columns=['CLAIMED_SUM','ENTRY_TIME'],axis=1)\n",
    "df = df.drop_duplicates(keep='first')"
   ]
  },
  {
   "cell_type": "code",
   "execution_count": null,
   "metadata": {},
   "outputs": [],
   "source": [
    "df.head()"
   ]
  },
  {
   "cell_type": "markdown",
   "metadata": {},
   "source": [
    "## USING SINGLE WINDOW TECHNIQUE STARTS\n",
    "# <hr>"
   ]
  },
  {
   "cell_type": "code",
   "execution_count": 209,
   "metadata": {},
   "outputs": [],
   "source": [
    "pf=df.copy()\n",
    "len(pf)\n",
    "pf.drop(columns=['CLAIM_DATE'], axis=1, inplace=True)"
   ]
  },
  {
   "cell_type": "code",
   "execution_count": 210,
   "metadata": {},
   "outputs": [
    {
     "data": {
      "text/html": [
       "<div>\n",
       "<style scoped>\n",
       "    .dataframe tbody tr th:only-of-type {\n",
       "        vertical-align: middle;\n",
       "    }\n",
       "\n",
       "    .dataframe tbody tr th {\n",
       "        vertical-align: top;\n",
       "    }\n",
       "\n",
       "    .dataframe thead th {\n",
       "        text-align: right;\n",
       "    }\n",
       "</style>\n",
       "<table border=\"1\" class=\"dataframe\">\n",
       "  <thead>\n",
       "    <tr style=\"text-align: right;\">\n",
       "      <th></th>\n",
       "      <th>CLAIM_AMOUNT</th>\n",
       "    </tr>\n",
       "  </thead>\n",
       "  <tbody>\n",
       "    <tr>\n",
       "      <th>569668</th>\n",
       "      <td>3.906541e+07</td>\n",
       "    </tr>\n",
       "    <tr>\n",
       "      <th>221750</th>\n",
       "      <td>2.502903e+07</td>\n",
       "    </tr>\n",
       "    <tr>\n",
       "      <th>266218</th>\n",
       "      <td>5.109634e+08</td>\n",
       "    </tr>\n",
       "    <tr>\n",
       "      <th>342230</th>\n",
       "      <td>1.143072e+09</td>\n",
       "    </tr>\n",
       "    <tr>\n",
       "      <th>431695</th>\n",
       "      <td>1.029719e+09</td>\n",
       "    </tr>\n",
       "  </tbody>\n",
       "</table>\n",
       "</div>"
      ],
      "text/plain": [
       "        CLAIM_AMOUNT\n",
       "569668  3.906541e+07\n",
       "221750  2.502903e+07\n",
       "266218  5.109634e+08\n",
       "342230  1.143072e+09\n",
       "431695  1.029719e+09"
      ]
     },
     "execution_count": 210,
     "metadata": {},
     "output_type": "execute_result"
    }
   ],
   "source": [
    "pf.head()"
   ]
  },
  {
   "cell_type": "code",
   "execution_count": 211,
   "metadata": {},
   "outputs": [],
   "source": [
    "# LSTM for international airline passengers problem with regression framing\n",
    "import numpy\n",
    "import matplotlib.pyplot as plt\n",
    "from pandas import read_csv\n",
    "import math\n",
    "from keras.models import Sequential\n",
    "from keras.layers import Dense\n",
    "from keras.layers import LSTM\n",
    "from sklearn.preprocessing import MinMaxScaler\n",
    "from sklearn.metrics import mean_squared_error\n",
    "from keras import backend as K\n",
    "# convert an array of values into a dataset matrix\n",
    "def create_dataset(dataset, look_back=1):\n",
    "    dataX, dataY = [], []\n",
    "    for i in range(len(dataset)-look_back-1):\n",
    "        a = dataset[i:(i+look_back), 0]\n",
    "        dataX.append(a)\n",
    "        dataY.append(dataset[i + look_back, 0])\n",
    "    return numpy.array(dataX), numpy.array(dataY)\n",
    "# fix random seed for reproducibility\n",
    "numpy.random.seed(7)"
   ]
  },
  {
   "cell_type": "code",
   "execution_count": 212,
   "metadata": {},
   "outputs": [],
   "source": [
    "# load the dataset\n",
    "# dataframe = read_csv('airline-passengers.csv', usecols=[1], engine='python')\n",
    "dataframe=pf\n",
    "dataset = dataframe.values\n",
    "dataset = dataset.astype('float32')"
   ]
  },
  {
   "cell_type": "code",
   "execution_count": 213,
   "metadata": {},
   "outputs": [
    {
     "name": "stdout",
     "output_type": "stream",
     "text": [
      "40\n"
     ]
    }
   ],
   "source": [
    "print(len(dataframe))"
   ]
  },
  {
   "cell_type": "code",
   "execution_count": 214,
   "metadata": {},
   "outputs": [],
   "source": [
    "# normalize the dataset\n",
    "scaler = MinMaxScaler(feature_range=(0, 1))\n",
    "dataset = scaler.fit_transform(dataset)\n",
    "# split into train and test sets\n",
    "train_size = int(len(dataset) * 0.72)\n",
    "test_size = len(dataset) - train_size\n",
    "train, test = dataset[0:train_size,:], dataset[train_size:len(dataset),:]\n",
    "# reshape into X=t and Y=t+1\n",
    "look_back = 1\n",
    "# look_back = 3\n",
    "trainX, trainY = create_dataset(train, look_back)\n",
    "testX, testY = create_dataset(test, look_back)\n",
    "# reshape input to be [samples, time steps, features]\n",
    "trainX = numpy.reshape(trainX, (trainX.shape[0], 1, trainX.shape[1]))\n",
    "testX = numpy.reshape(testX, (testX.shape[0], 1, testX.shape[1]))"
   ]
  },
  {
   "cell_type": "code",
   "execution_count": 215,
   "metadata": {},
   "outputs": [
    {
     "name": "stdout",
     "output_type": "stream",
     "text": [
      "Epoch 1/100\n",
      " - 1s - loss: 0.4609\n",
      "Epoch 2/100\n",
      " - 0s - loss: 0.3997\n",
      "Epoch 3/100\n",
      " - 0s - loss: 0.3435\n",
      "Epoch 4/100\n",
      " - 0s - loss: 0.2929\n",
      "Epoch 5/100\n",
      " - 0s - loss: 0.2459\n",
      "Epoch 6/100\n",
      " - 0s - loss: 0.2029\n",
      "Epoch 7/100\n",
      " - 0s - loss: 0.1643\n",
      "Epoch 8/100\n",
      " - 0s - loss: 0.1317\n",
      "Epoch 9/100\n",
      " - 0s - loss: 0.1043\n",
      "Epoch 10/100\n",
      " - 0s - loss: 0.0807\n",
      "Epoch 11/100\n",
      " - 0s - loss: 0.0647\n",
      "Epoch 12/100\n",
      " - 0s - loss: 0.0525\n",
      "Epoch 13/100\n",
      " - 0s - loss: 0.0438\n",
      "Epoch 14/100\n",
      " - 0s - loss: 0.0384\n",
      "Epoch 15/100\n",
      " - 0s - loss: 0.0353\n",
      "Epoch 16/100\n",
      " - 0s - loss: 0.0334\n",
      "Epoch 17/100\n",
      " - 0s - loss: 0.0322\n",
      "Epoch 18/100\n",
      " - 0s - loss: 0.0314\n",
      "Epoch 19/100\n",
      " - 0s - loss: 0.0313\n",
      "Epoch 20/100\n",
      " - 0s - loss: 0.0311\n",
      "Epoch 21/100\n",
      " - 0s - loss: 0.0306\n",
      "Epoch 22/100\n",
      " - 0s - loss: 0.0306\n",
      "Epoch 23/100\n",
      " - 0s - loss: 0.0305\n",
      "Epoch 24/100\n",
      " - 0s - loss: 0.0302\n",
      "Epoch 25/100\n",
      " - 0s - loss: 0.0300\n",
      "Epoch 26/100\n",
      " - 0s - loss: 0.0298\n",
      "Epoch 27/100\n",
      " - 0s - loss: 0.0296\n",
      "Epoch 28/100\n",
      " - 0s - loss: 0.0295\n",
      "Epoch 29/100\n",
      " - 0s - loss: 0.0294\n",
      "Epoch 30/100\n",
      " - 0s - loss: 0.0292\n",
      "Epoch 31/100\n",
      " - 0s - loss: 0.0293\n",
      "Epoch 32/100\n",
      " - 0s - loss: 0.0294\n",
      "Epoch 33/100\n",
      " - 0s - loss: 0.0288\n",
      "Epoch 34/100\n",
      " - 0s - loss: 0.0288\n",
      "Epoch 35/100\n",
      " - 0s - loss: 0.0286\n",
      "Epoch 36/100\n",
      " - 0s - loss: 0.0286\n",
      "Epoch 37/100\n",
      " - 0s - loss: 0.0284\n",
      "Epoch 38/100\n",
      " - 0s - loss: 0.0287\n",
      "Epoch 39/100\n",
      " - 0s - loss: 0.0281\n",
      "Epoch 40/100\n",
      " - 0s - loss: 0.0284\n",
      "Epoch 41/100\n",
      " - 0s - loss: 0.0283\n",
      "Epoch 42/100\n",
      " - 0s - loss: 0.0279\n",
      "Epoch 43/100\n",
      " - 0s - loss: 0.0279\n",
      "Epoch 44/100\n",
      " - 0s - loss: 0.0278\n",
      "Epoch 45/100\n",
      " - 0s - loss: 0.0275\n",
      "Epoch 46/100\n",
      " - 0s - loss: 0.0279\n",
      "Epoch 47/100\n",
      " - 0s - loss: 0.0273\n",
      "Epoch 48/100\n",
      " - 0s - loss: 0.0273\n",
      "Epoch 49/100\n",
      " - 0s - loss: 0.0272\n",
      "Epoch 50/100\n",
      " - 0s - loss: 0.0271\n",
      "Epoch 51/100\n",
      " - 0s - loss: 0.0270\n",
      "Epoch 52/100\n",
      " - 0s - loss: 0.0271\n",
      "Epoch 53/100\n",
      " - 0s - loss: 0.0269\n",
      "Epoch 54/100\n",
      " - 0s - loss: 0.0270\n",
      "Epoch 55/100\n",
      " - 0s - loss: 0.0267\n",
      "Epoch 56/100\n",
      " - 0s - loss: 0.0268\n",
      "Epoch 57/100\n",
      " - 0s - loss: 0.0265\n",
      "Epoch 58/100\n",
      " - 0s - loss: 0.0264\n",
      "Epoch 59/100\n",
      " - 0s - loss: 0.0264\n",
      "Epoch 60/100\n",
      " - 0s - loss: 0.0263\n",
      "Epoch 61/100\n",
      " - 0s - loss: 0.0263\n",
      "Epoch 62/100\n",
      " - 0s - loss: 0.0264\n",
      "Epoch 63/100\n",
      " - 0s - loss: 0.0260\n",
      "Epoch 64/100\n",
      " - 0s - loss: 0.0261\n",
      "Epoch 65/100\n",
      " - 0s - loss: 0.0262\n",
      "Epoch 66/100\n",
      " - 0s - loss: 0.0260\n",
      "Epoch 67/100\n",
      " - 0s - loss: 0.0257\n",
      "Epoch 68/100\n",
      " - 0s - loss: 0.0258\n",
      "Epoch 69/100\n",
      " - 0s - loss: 0.0258\n",
      "Epoch 70/100\n",
      " - 0s - loss: 0.0259\n",
      "Epoch 71/100\n",
      " - 0s - loss: 0.0259\n",
      "Epoch 72/100\n",
      " - 0s - loss: 0.0259\n",
      "Epoch 73/100\n",
      " - 0s - loss: 0.0259\n",
      "Epoch 74/100\n",
      " - 0s - loss: 0.0255\n",
      "Epoch 75/100\n",
      " - 0s - loss: 0.0254\n",
      "Epoch 76/100\n",
      " - 0s - loss: 0.0254\n",
      "Epoch 77/100\n",
      " - 0s - loss: 0.0254\n",
      "Epoch 78/100\n",
      " - 0s - loss: 0.0252\n",
      "Epoch 79/100\n",
      " - 0s - loss: 0.0252\n",
      "Epoch 80/100\n",
      " - 0s - loss: 0.0252\n",
      "Epoch 81/100\n",
      " - 0s - loss: 0.0251\n",
      "Epoch 82/100\n",
      " - 0s - loss: 0.0252\n",
      "Epoch 83/100\n",
      " - 0s - loss: 0.0251\n",
      "Epoch 84/100\n",
      " - 0s - loss: 0.0252\n",
      "Epoch 85/100\n",
      " - 0s - loss: 0.0250\n",
      "Epoch 86/100\n",
      " - 0s - loss: 0.0250\n",
      "Epoch 87/100\n",
      " - 0s - loss: 0.0251\n",
      "Epoch 88/100\n",
      " - 0s - loss: 0.0253\n",
      "Epoch 89/100\n",
      " - 0s - loss: 0.0248\n",
      "Epoch 90/100\n",
      " - 0s - loss: 0.0249\n",
      "Epoch 91/100\n",
      " - 0s - loss: 0.0249\n",
      "Epoch 92/100\n",
      " - 0s - loss: 0.0248\n",
      "Epoch 93/100\n",
      " - 0s - loss: 0.0250\n",
      "Epoch 94/100\n",
      " - 0s - loss: 0.0248\n",
      "Epoch 95/100\n",
      " - 0s - loss: 0.0246\n",
      "Epoch 96/100\n",
      " - 0s - loss: 0.0251\n",
      "Epoch 97/100\n",
      " - 0s - loss: 0.0246\n",
      "Epoch 98/100\n",
      " - 0s - loss: 0.0248\n",
      "Epoch 99/100\n",
      " - 0s - loss: 0.0245\n",
      "Epoch 100/100\n",
      " - 0s - loss: 0.0245\n",
      "Train Score: 575405729.15 RMSE\n",
      "Test Score: 880746609.30 RMSE\n"
     ]
    }
   ],
   "source": [
    "import os\n",
    "# create and fit the LSTM network\n",
    "model = Sequential()\n",
    "model.add(LSTM(4, input_shape=(1, look_back)))\n",
    "model.add(Dense(1))\n",
    "model.compile(loss='mean_squared_error', optimizer='adam')\n",
    "model.fit(trainX, trainY, epochs=100, batch_size=1, verbose=2)\n",
    "# make predictions\n",
    "\n",
    "dname='aar_timeseries.h5'\n",
    "model.save(os.path.join('/home/rasello/projects/AAR_JUPYTER',dname))\n",
    "trainPredict = model.predict(trainX)\n",
    "testPredict = model.predict(testX)\n",
    "K.clear_session()\n",
    "# invert predictions\n",
    "trainPredict = scaler.inverse_transform(trainPredict)\n",
    "trainY = scaler.inverse_transform([trainY])\n",
    "testPredict = scaler.inverse_transform(testPredict)\n",
    "testY = scaler.inverse_transform([testY])\n",
    "# calculate root mean squared error\n",
    "trainScore = math.sqrt(mean_squared_error(trainY[0], trainPredict[:,0]))\n",
    "print('Train Score: %.2f RMSE' % (trainScore))\n",
    "testScore = math.sqrt(mean_squared_error(testY[0], testPredict[:,0]))\n",
    "print('Test Score: %.2f RMSE' % (testScore))"
   ]
  },
  {
   "cell_type": "code",
   "execution_count": 216,
   "metadata": {},
   "outputs": [
    {
     "data": {
      "image/png": "[encoded data removed]",
      "text/plain": [
       "<Figure size 432x288 with 1 Axes>"
      ]
     },
     "metadata": {},
     "output_type": "display_data"
    }
   ],
   "source": [
    "# shift train predictions for plotting\n",
    "trainPredictPlot = numpy.empty_like(dataset)\n",
    "trainPredictPlot[:, :] = numpy.nan\n",
    "trainPredictPlot[look_back:len(trainPredict)+look_back, :] = trainPredict\n",
    "# shift test predictions for plotting\n",
    "testPredictPlot = numpy.empty_like(dataset)\n",
    "testPredictPlot[:, :] = numpy.nan\n",
    "testPredictPlot[len(trainPredict)+(look_back*2)+1:len(dataset)-1, :] = testPredict\n",
    "# plot baseline and predictions\n",
    "plt.plot(scaler.inverse_transform(dataset))\n",
    "plt.plot(trainPredictPlot)\n",
    "plt.plot(testPredictPlot)\n",
    "plt.show()"
   ]
  },
  {
   "cell_type": "code",
   "execution_count": 217,
   "metadata": {},
   "outputs": [],
   "source": [
    "from keras.models import load_model\n",
    "modelV = load_model(os.path.join('/home/rasello/projects/AAR_JUPYTER','aar_timeseries.h5'))"
   ]
  },
  {
   "cell_type": "code",
   "execution_count": 233,
   "metadata": {},
   "outputs": [],
   "source": [
    "predict=pf[:10]\n",
    "predict=predict.values\n",
    "predict=predict.astype('float32')\n",
    "scaler = MinMaxScaler(feature_range=(0, 1))\n",
    "data = scaler.fit_transform(predict)\n",
    "dataX=numpy.reshape(data,(data.shape[0],1,data.shape[1]))\n",
    "dataX=dataX"
   ]
  },
  {
   "cell_type": "code",
   "execution_count": 234,
   "metadata": {},
   "outputs": [
    {
     "data": {
      "text/plain": [
       "array([[0.0040542]], dtype=float32)"
      ]
     },
     "execution_count": 234,
     "metadata": {},
     "output_type": "execute_result"
    }
   ],
   "source": [
    "dataX[0]"
   ]
  },
  {
   "cell_type": "code",
   "execution_count": 235,
   "metadata": {},
   "outputs": [
    {
     "ename": "NotFoundError",
     "evalue": "PruneForTargets: Some target nodes not found: group_deps ",
     "output_type": "error",
     "traceback": [
      "\u001b[0;31m---------------------------------------------------------------------------\u001b[0m",
      "\u001b[0;31mNotFoundError\u001b[0m                             Traceback (most recent call last)",
      "\u001b[0;32m<ipython-input-235-7a360c1b8366>\u001b[0m in \u001b[0;36m<module>\u001b[0;34m()\u001b[0m\n\u001b[0;32m----> 1\u001b[0;31m \u001b[0mresult\u001b[0m\u001b[0;34m=\u001b[0m\u001b[0mmodel\u001b[0m\u001b[0;34m.\u001b[0m\u001b[0mpredict\u001b[0m\u001b[0;34m(\u001b[0m\u001b[0mdataX\u001b[0m\u001b[0;34m)\u001b[0m\u001b[0;34m\u001b[0m\u001b[0m\n\u001b[0m\u001b[1;32m      2\u001b[0m \u001b[0mact_res\u001b[0m\u001b[0;34m=\u001b[0m\u001b[0mscaler\u001b[0m\u001b[0;34m.\u001b[0m\u001b[0minverse_transform\u001b[0m\u001b[0;34m(\u001b[0m\u001b[0mresult\u001b[0m\u001b[0;34m)\u001b[0m\u001b[0;34m\u001b[0m\u001b[0m\n",
      "\u001b[0;32m~/.local/lib/python3.6/site-packages/keras/engine/training.py\u001b[0m in \u001b[0;36mpredict\u001b[0;34m(self, x, batch_size, verbose, steps)\u001b[0m\n\u001b[1;32m   1167\u001b[0m                                             \u001b[0mbatch_size\u001b[0m\u001b[0;34m=\u001b[0m\u001b[0mbatch_size\u001b[0m\u001b[0;34m,\u001b[0m\u001b[0;34m\u001b[0m\u001b[0m\n\u001b[1;32m   1168\u001b[0m                                             \u001b[0mverbose\u001b[0m\u001b[0;34m=\u001b[0m\u001b[0mverbose\u001b[0m\u001b[0;34m,\u001b[0m\u001b[0;34m\u001b[0m\u001b[0m\n\u001b[0;32m-> 1169\u001b[0;31m                                             steps=steps)\n\u001b[0m\u001b[1;32m   1170\u001b[0m \u001b[0;34m\u001b[0m\u001b[0m\n\u001b[1;32m   1171\u001b[0m     def train_on_batch(self, x, y,\n",
      "\u001b[0;32m~/.local/lib/python3.6/site-packages/keras/engine/training_arrays.py\u001b[0m in \u001b[0;36mpredict_loop\u001b[0;34m(model, f, ins, batch_size, verbose, steps)\u001b[0m\n\u001b[1;32m    292\u001b[0m                 \u001b[0mins_batch\u001b[0m\u001b[0;34m[\u001b[0m\u001b[0mi\u001b[0m\u001b[0;34m]\u001b[0m \u001b[0;34m=\u001b[0m \u001b[0mins_batch\u001b[0m\u001b[0;34m[\u001b[0m\u001b[0mi\u001b[0m\u001b[0;34m]\u001b[0m\u001b[0;34m.\u001b[0m\u001b[0mtoarray\u001b[0m\u001b[0;34m(\u001b[0m\u001b[0;34m)\u001b[0m\u001b[0;34m\u001b[0m\u001b[0m\n\u001b[1;32m    293\u001b[0m \u001b[0;34m\u001b[0m\u001b[0m\n\u001b[0;32m--> 294\u001b[0;31m             \u001b[0mbatch_outs\u001b[0m \u001b[0;34m=\u001b[0m \u001b[0mf\u001b[0m\u001b[0;34m(\u001b[0m\u001b[0mins_batch\u001b[0m\u001b[0;34m)\u001b[0m\u001b[0;34m\u001b[0m\u001b[0m\n\u001b[0m\u001b[1;32m    295\u001b[0m             \u001b[0mbatch_outs\u001b[0m \u001b[0;34m=\u001b[0m \u001b[0mto_list\u001b[0m\u001b[0;34m(\u001b[0m\u001b[0mbatch_outs\u001b[0m\u001b[0;34m)\u001b[0m\u001b[0;34m\u001b[0m\u001b[0m\n\u001b[1;32m    296\u001b[0m             \u001b[0;32mif\u001b[0m \u001b[0mbatch_index\u001b[0m \u001b[0;34m==\u001b[0m \u001b[0;36m0\u001b[0m\u001b[0;34m:\u001b[0m\u001b[0;34m\u001b[0m\u001b[0m\n",
      "\u001b[0;32m~/.local/lib/python3.6/site-packages/keras/backend/tensorflow_backend.py\u001b[0m in \u001b[0;36m__call__\u001b[0;34m(self, inputs)\u001b[0m\n\u001b[1;32m   2713\u001b[0m                 \u001b[0;32mreturn\u001b[0m \u001b[0mself\u001b[0m\u001b[0;34m.\u001b[0m\u001b[0m_legacy_call\u001b[0m\u001b[0;34m(\u001b[0m\u001b[0minputs\u001b[0m\u001b[0;34m)\u001b[0m\u001b[0;34m\u001b[0m\u001b[0m\n\u001b[1;32m   2714\u001b[0m \u001b[0;34m\u001b[0m\u001b[0m\n\u001b[0;32m-> 2715\u001b[0;31m             \u001b[0;32mreturn\u001b[0m \u001b[0mself\u001b[0m\u001b[0;34m.\u001b[0m\u001b[0m_call\u001b[0m\u001b[0;34m(\u001b[0m\u001b[0minputs\u001b[0m\u001b[0;34m)\u001b[0m\u001b[0;34m\u001b[0m\u001b[0m\n\u001b[0m\u001b[1;32m   2716\u001b[0m         \u001b[0;32melse\u001b[0m\u001b[0;34m:\u001b[0m\u001b[0;34m\u001b[0m\u001b[0m\n\u001b[1;32m   2717\u001b[0m             \u001b[0;32mif\u001b[0m \u001b[0mpy_any\u001b[0m\u001b[0;34m(\u001b[0m\u001b[0mis_tensor\u001b[0m\u001b[0;34m(\u001b[0m\u001b[0mx\u001b[0m\u001b[0;34m)\u001b[0m \u001b[0;32mfor\u001b[0m \u001b[0mx\u001b[0m \u001b[0;32min\u001b[0m \u001b[0minputs\u001b[0m\u001b[0;34m)\u001b[0m\u001b[0;34m:\u001b[0m\u001b[0;34m\u001b[0m\u001b[0m\n",
      "\u001b[0;32m~/.local/lib/python3.6/site-packages/keras/backend/tensorflow_backend.py\u001b[0m in \u001b[0;36m_call\u001b[0;34m(self, inputs)\u001b[0m\n\u001b[1;32m   2669\u001b[0m                                 \u001b[0mfeed_symbols\u001b[0m\u001b[0;34m,\u001b[0m\u001b[0;34m\u001b[0m\u001b[0m\n\u001b[1;32m   2670\u001b[0m                                 \u001b[0msymbol_vals\u001b[0m\u001b[0;34m,\u001b[0m\u001b[0;34m\u001b[0m\u001b[0m\n\u001b[0;32m-> 2671\u001b[0;31m                                 session)\n\u001b[0m\u001b[1;32m   2672\u001b[0m         \u001b[0;32mif\u001b[0m \u001b[0mself\u001b[0m\u001b[0;34m.\u001b[0m\u001b[0mrun_metadata\u001b[0m\u001b[0;34m:\u001b[0m\u001b[0;34m\u001b[0m\u001b[0m\n\u001b[1;32m   2673\u001b[0m             \u001b[0mfetched\u001b[0m \u001b[0;34m=\u001b[0m \u001b[0mself\u001b[0m\u001b[0;34m.\u001b[0m\u001b[0m_callable_fn\u001b[0m\u001b[0;34m(\u001b[0m\u001b[0;34m*\u001b[0m\u001b[0marray_vals\u001b[0m\u001b[0;34m,\u001b[0m \u001b[0mrun_metadata\u001b[0m\u001b[0;34m=\u001b[0m\u001b[0mself\u001b[0m\u001b[0;34m.\u001b[0m\u001b[0mrun_metadata\u001b[0m\u001b[0;34m)\u001b[0m\u001b[0;34m\u001b[0m\u001b[0m\n",
      "\u001b[0;32m~/.local/lib/python3.6/site-packages/keras/backend/tensorflow_backend.py\u001b[0m in \u001b[0;36m_make_callable\u001b[0;34m(self, feed_arrays, feed_symbols, symbol_vals, session)\u001b[0m\n\u001b[1;32m   2621\u001b[0m             \u001b[0mcallable_opts\u001b[0m\u001b[0;34m.\u001b[0m\u001b[0mrun_options\u001b[0m\u001b[0;34m.\u001b[0m\u001b[0mCopyFrom\u001b[0m\u001b[0;34m(\u001b[0m\u001b[0mself\u001b[0m\u001b[0;34m.\u001b[0m\u001b[0mrun_options\u001b[0m\u001b[0;34m)\u001b[0m\u001b[0;34m\u001b[0m\u001b[0m\n\u001b[1;32m   2622\u001b[0m         \u001b[0;31m# Create callable.\u001b[0m\u001b[0;34m\u001b[0m\u001b[0;34m\u001b[0m\u001b[0m\n\u001b[0;32m-> 2623\u001b[0;31m         \u001b[0mcallable_fn\u001b[0m \u001b[0;34m=\u001b[0m \u001b[0msession\u001b[0m\u001b[0;34m.\u001b[0m\u001b[0m_make_callable_from_options\u001b[0m\u001b[0;34m(\u001b[0m\u001b[0mcallable_opts\u001b[0m\u001b[0;34m)\u001b[0m\u001b[0;34m\u001b[0m\u001b[0m\n\u001b[0m\u001b[1;32m   2624\u001b[0m         \u001b[0;31m# Cache parameters corresponding to the generated callable, so that\u001b[0m\u001b[0;34m\u001b[0m\u001b[0;34m\u001b[0m\u001b[0m\n\u001b[1;32m   2625\u001b[0m         \u001b[0;31m# we can detect future mismatches and refresh the callable.\u001b[0m\u001b[0;34m\u001b[0m\u001b[0;34m\u001b[0m\u001b[0m\n",
      "\u001b[0;32m~/.local/lib/python3.6/site-packages/tensorflow/python/client/session.py\u001b[0m in \u001b[0;36m_make_callable_from_options\u001b[0;34m(self, callable_options)\u001b[0m\n\u001b[1;32m   1481\u001b[0m     \"\"\"\n\u001b[1;32m   1482\u001b[0m     \u001b[0mself\u001b[0m\u001b[0;34m.\u001b[0m\u001b[0m_extend_graph\u001b[0m\u001b[0;34m(\u001b[0m\u001b[0;34m)\u001b[0m\u001b[0;34m\u001b[0m\u001b[0m\n\u001b[0;32m-> 1483\u001b[0;31m     \u001b[0;32mreturn\u001b[0m \u001b[0mBaseSession\u001b[0m\u001b[0;34m.\u001b[0m\u001b[0m_Callable\u001b[0m\u001b[0;34m(\u001b[0m\u001b[0mself\u001b[0m\u001b[0;34m,\u001b[0m \u001b[0mcallable_options\u001b[0m\u001b[0;34m)\u001b[0m\u001b[0;34m\u001b[0m\u001b[0m\n\u001b[0m\u001b[1;32m   1484\u001b[0m \u001b[0;34m\u001b[0m\u001b[0m\n\u001b[1;32m   1485\u001b[0m \u001b[0;34m\u001b[0m\u001b[0m\n",
      "\u001b[0;32m~/.local/lib/python3.6/site-packages/tensorflow/python/client/session.py\u001b[0m in \u001b[0;36m__init__\u001b[0;34m(self, session, callable_options)\u001b[0m\n\u001b[1;32m   1439\u001b[0m           \u001b[0;32melse\u001b[0m\u001b[0;34m:\u001b[0m\u001b[0;34m\u001b[0m\u001b[0m\n\u001b[1;32m   1440\u001b[0m             self._handle = tf_session.TF_DeprecatedSessionMakeCallable(\n\u001b[0;32m-> 1441\u001b[0;31m                 session._session, options_ptr, status)\n\u001b[0m\u001b[1;32m   1442\u001b[0m       \u001b[0;32mfinally\u001b[0m\u001b[0;34m:\u001b[0m\u001b[0;34m\u001b[0m\u001b[0m\n\u001b[1;32m   1443\u001b[0m         \u001b[0mtf_session\u001b[0m\u001b[0;34m.\u001b[0m\u001b[0mTF_DeleteBuffer\u001b[0m\u001b[0;34m(\u001b[0m\u001b[0moptions_ptr\u001b[0m\u001b[0;34m)\u001b[0m\u001b[0;34m\u001b[0m\u001b[0m\n",
      "\u001b[0;32m~/.local/lib/python3.6/site-packages/tensorflow/python/framework/errors_impl.py\u001b[0m in \u001b[0;36m__exit__\u001b[0;34m(self, type_arg, value_arg, traceback_arg)\u001b[0m\n\u001b[1;32m    517\u001b[0m             \u001b[0;32mNone\u001b[0m\u001b[0;34m,\u001b[0m \u001b[0;32mNone\u001b[0m\u001b[0;34m,\u001b[0m\u001b[0;34m\u001b[0m\u001b[0m\n\u001b[1;32m    518\u001b[0m             \u001b[0mcompat\u001b[0m\u001b[0;34m.\u001b[0m\u001b[0mas_text\u001b[0m\u001b[0;34m(\u001b[0m\u001b[0mc_api\u001b[0m\u001b[0;34m.\u001b[0m\u001b[0mTF_Message\u001b[0m\u001b[0;34m(\u001b[0m\u001b[0mself\u001b[0m\u001b[0;34m.\u001b[0m\u001b[0mstatus\u001b[0m\u001b[0;34m.\u001b[0m\u001b[0mstatus\u001b[0m\u001b[0;34m)\u001b[0m\u001b[0;34m)\u001b[0m\u001b[0;34m,\u001b[0m\u001b[0;34m\u001b[0m\u001b[0m\n\u001b[0;32m--> 519\u001b[0;31m             c_api.TF_GetCode(self.status.status))\n\u001b[0m\u001b[1;32m    520\u001b[0m     \u001b[0;31m# Delete the underlying status object from memory otherwise it stays alive\u001b[0m\u001b[0;34m\u001b[0m\u001b[0;34m\u001b[0m\u001b[0m\n\u001b[1;32m    521\u001b[0m     \u001b[0;31m# as there is a reference to status from this from the traceback due to\u001b[0m\u001b[0;34m\u001b[0m\u001b[0;34m\u001b[0m\u001b[0m\n",
      "\u001b[0;31mNotFoundError\u001b[0m: PruneForTargets: Some target nodes not found: group_deps "
     ]
    }
   ],
   "source": [
    "result=model.predict(dataX)\n",
    "act_res=scaler.inverse_transform(result)"
   ]
  },
  {
   "cell_type": "markdown",
   "metadata": {},
   "source": [
    "# <hr>\n",
    "## USING SINGLE WINDOW TECHIQUE ENDS"
   ]
  },
  {
   "cell_type": "code",
   "execution_count": 111,
   "metadata": {
    "collapsed": true
   },
   "outputs": [],
   "source": [
    "# frame a sequence as a supervised learning problem\n",
    "# this methods will create a column and column value will be 1 shift from the data. \n",
    "# it will make our data to supervised so that we can feed into network\n",
    "def timeseries_to_supervised(data, lag=1):\n",
    "    df = pd.DataFrame(data)\n",
    "    columns = [df.shift(i) for i in range(1, lag+1)]\n",
    "    columns.append(df)\n",
    "    df = pd.concat(columns, axis=1)\n",
    "    df.fillna(0, inplace=True)\n",
    "    return df"
   ]
  },
  {
   "cell_type": "code",
   "execution_count": 112,
   "metadata": {
    "collapsed": true
   },
   "outputs": [],
   "source": [
    "# create a differenced series\n",
    "def difference(dataset, interval=1):\n",
    "    diff = list()\n",
    "    for i in range(interval, len(dataset)):\n",
    "        value = dataset[i] - dataset[i - interval]\n",
    "        diff.append(value)\n",
    "    return pd.Series(diff)"
   ]
  },
  {
   "cell_type": "code",
   "execution_count": 113,
   "metadata": {
    "collapsed": true
   },
   "outputs": [],
   "source": [
    "# invert differenced value\n",
    "def inverse_difference(history, yhat, interval=1):\n",
    "    return yhat + history[-interval]"
   ]
  },
  {
   "cell_type": "markdown",
   "metadata": {},
   "source": [
    "<hr>"
   ]
  },
  {
   "cell_type": "code",
   "execution_count": 114,
   "metadata": {
    "collapsed": true
   },
   "outputs": [],
   "source": [
    "# scale train and test data to [-1, 1]\n",
    "def scale(train, test):\n",
    "    # fit scaler\n",
    "    scaler = MinMaxScaler(feature_range=(-1, 1))\n",
    "    scaler = scaler.fit(train)\n",
    "    # transform train\n",
    "    train = train.reshape(train.shape[0], train.shape[1])\n",
    "    train_scaled = scaler.transform(train)\n",
    "    # transform test\n",
    "    test = test.reshape(test.shape[0], test.shape[1])\n",
    "    test_scaled = scaler.transform(test)\n",
    "    return scaler, train_scaled, test_scaled"
   ]
  },
  {
   "cell_type": "code",
   "execution_count": 115,
   "metadata": {
    "collapsed": true
   },
   "outputs": [],
   "source": [
    "# inverse scaling for a forecasted value\n",
    "def invert_scale(scaler, X, value):\n",
    "    new_row = [x for x in X] + [value]\n",
    "    array = np.array(new_row)\n",
    "    array = array.reshape(1, len(array))\n",
    "    inverted = scaler.inverse_transform(array)\n",
    "    return inverted[0, -1]"
   ]
  },
  {
   "cell_type": "code",
   "execution_count": 116,
   "metadata": {
    "collapsed": true
   },
   "outputs": [],
   "source": [
    "# fit an LSTM network to training data\n",
    "def fit_lstm(train, batch_size, nb_epoch, neurons):\n",
    "    X, y = train[:, 0:-1], train[:, -1]\n",
    "    X = X.reshape(X.shape[0], 1, X.shape[1])\n",
    "    model = Sequential()\n",
    "    model.add(LSTM(neurons, batch_input_shape=(batch_size, X.shape[1], X.shape[2]), stateful=True))\n",
    "    model.add(Dense(1))\n",
    "    model.compile(loss='mean_squared_error', optimizer='adam')\n",
    "    for i in range(nb_epoch):\n",
    "        model.fit(X, y, epochs=1, batch_size=batch_size, verbose=0, shuffle=False)\n",
    "        model.reset_states()\n",
    "    return model"
   ]
  },
  {
   "cell_type": "code",
   "execution_count": 117,
   "metadata": {
    "collapsed": true
   },
   "outputs": [],
   "source": [
    "# make a one-step forecast\n",
    "def forecast_lstm(model, batch_size, X):\n",
    "    X = X.reshape(1, 1, len(X))\n",
    "    yhat = model.predict(X, batch_size=batch_size, verbose=0)\n",
    "    return yhat[0,0]"
   ]
  },
  {
   "cell_type": "code",
   "execution_count": 118,
   "metadata": {
    "collapsed": true
   },
   "outputs": [],
   "source": [
    "from sklearn.metrics import mean_squared_error\n",
    "# from sklearn.preprocessing import MinMaxScaler\n",
    "from keras.models import Sequential\n",
    "from keras.layers import Dense\n",
    "from keras.layers import LSTM\n",
    "from math import sqrt\n",
    "import matplotlib.dates as mdates\n",
    "# import seaborn as sns\n",
    "# from sklearn.model_selection import train_test_split\n",
    "# from sklearn.model_selection import TimeSeriesSplit\n",
    "import numpy as np"
   ]
  },
  {
   "cell_type": "code",
   "execution_count": null,
   "metadata": {
    "collapsed": true
   },
   "outputs": [],
   "source": [
    "# convert our column to pandas series \n",
    "series = pd.Series(df)\n",
    "# transform data to be stationary\n",
    "raw_values = series.values\n",
    "diff_values = difference(raw_values, 1)\n",
    "\n",
    "# transform data to be supervised learning\n",
    "supervised = timeseries_to_supervised(diff_values, 1)\n",
    "supervised_values = supervised.values\n",
    "\n",
    "# split data into train and test-sets\n",
    "train_size = int(len(supervised_values) * 0.80)\n",
    "train, test = supervised_values[0:train_size], supervised_values[train_size:len(supervised_values)]\n",
    "\n",
    "# transform the scale of the data\n",
    "scaler, train_scaled, test_scaled = scale(train, test)"
   ]
  },
  {
   "cell_type": "code",
   "execution_count": 120,
   "metadata": {
    "collapsed": true
   },
   "outputs": [],
   "source": [
    "import numpy"
   ]
  },
  {
   "cell_type": "code",
   "execution_count": 121,
   "metadata": {},
   "outputs": [
    {
     "ename": "NameError",
     "evalue": "name 'train_scaled' is not defined",
     "output_type": "error",
     "traceback": [
      "\u001b[0;31m---------------------------------------------------------------------------\u001b[0m",
      "\u001b[0;31mNameError\u001b[0m                                 Traceback (most recent call last)",
      "\u001b[0;32m<ipython-input-121-ef69afc72dc3>\u001b[0m in \u001b[0;36m<module>\u001b[0;34m()\u001b[0m\n\u001b[1;32m      5\u001b[0m \u001b[0;32mfor\u001b[0m \u001b[0mr\u001b[0m \u001b[0;32min\u001b[0m \u001b[0mrange\u001b[0m\u001b[0;34m(\u001b[0m\u001b[0mrepeats\u001b[0m\u001b[0;34m)\u001b[0m\u001b[0;34m:\u001b[0m\u001b[0;34m\u001b[0m\u001b[0m\n\u001b[1;32m      6\u001b[0m     \u001b[0;31m# let's train\u001b[0m\u001b[0;34m\u001b[0m\u001b[0;34m\u001b[0m\u001b[0m\n\u001b[0;32m----> 7\u001b[0;31m     \u001b[0mlstm_model\u001b[0m \u001b[0;34m=\u001b[0m \u001b[0mfit_lstm\u001b[0m\u001b[0;34m(\u001b[0m\u001b[0mtrain_scaled\u001b[0m\u001b[0;34m,\u001b[0m \u001b[0;36m1\u001b[0m\u001b[0;34m,\u001b[0m \u001b[0;36m15\u001b[0m\u001b[0;34m,\u001b[0m \u001b[0;36m4\u001b[0m\u001b[0;34m)\u001b[0m\u001b[0;34m\u001b[0m\u001b[0m\n\u001b[0m\u001b[1;32m      8\u001b[0m     \u001b[0mpredictions\u001b[0m \u001b[0;34m=\u001b[0m \u001b[0mlist\u001b[0m\u001b[0;34m(\u001b[0m\u001b[0;34m)\u001b[0m\u001b[0;34m\u001b[0m\u001b[0m\n\u001b[1;32m      9\u001b[0m     \u001b[0;31m# let's predict for test case\u001b[0m\u001b[0;34m\u001b[0m\u001b[0;34m\u001b[0m\u001b[0m\n",
      "\u001b[0;31mNameError\u001b[0m: name 'train_scaled' is not defined"
     ]
    }
   ],
   "source": [
    "# repeat 30 times\n",
    "repeats = 15\n",
    "# variable for keep track of error scores\n",
    "error_scores = list()\n",
    "for r in range(repeats):\n",
    "    # let's train\n",
    "    lstm_model = fit_lstm(train_scaled, 1, 15, 4)\n",
    "    predictions = list()\n",
    "    # let's predict for test case\n",
    "    for i in range(len(test_scaled)):\n",
    "        # make one-step forecast\n",
    "        X, y = test_scaled[i, 0:-1], test_scaled[i, -1]\n",
    "        yhat = forecast_lstm(lstm_model, 1, X)\n",
    "        # invert scaling\n",
    "        yhat = invert_scale(scaler, X, yhat)\n",
    "        # invert differencing\n",
    "        yhat = inverse_difference(raw_values, yhat, len(test_scaled)+1-i)\n",
    "        # store forecast\n",
    "        predictions.append(yhat)\n",
    "        # report performance\n",
    "    rmse = sqrt(mean_squared_error(raw_values[train_size:len(supervised_values)], predictions))\n",
    "    print('%d) Test RMSE: %.3f' % (r+1, rmse))\n",
    "    error_scores.append(rmse)"
   ]
  },
  {
   "cell_type": "code",
   "execution_count": 29,
   "metadata": {
    "collapsed": true
   },
   "outputs": [],
   "source": [
    "results = pd.DataFrame()\n",
    "results['rmse'] = error_scores"
   ]
  },
  {
   "cell_type": "code",
   "execution_count": 61,
   "metadata": {},
   "outputs": [
    {
     "name": "stdout",
     "output_type": "stream",
     "text": [
      "2.2.2\n"
     ]
    }
   ],
   "source": [
    "import matplotlib\n",
    "print(matplotlib.__version__)"
   ]
  },
  {
   "cell_type": "code",
   "execution_count": 63,
   "metadata": {},
   "outputs": [
    {
     "data": {
      "image/png": "[encoded data removed]",
      "text/plain": [
       "<Figure size 1080x360 with 1 Axes>"
      ]
     },
     "metadata": {},
     "output_type": "display_data"
    }
   ],
   "source": [
    "# line plot of observed vs predicted\n",
    "# from matplotlib import matplotlib.axes.Axes.set_xlabel\n",
    "# from matplotlib import matplotlib.axes.Axes.set_ylabel\n",
    "# fig = plt.figure()\n",
    "# ax = fig.add_subplot(111)\n",
    "fig, ax = plt.subplots(figsize=(15,5))\n",
    "# plt.figure(figsize=(15, 5))\n",
    "ax.set_xlabel('Training and testing data',fontsize=12)\n",
    "ax.set_ylabel('Claim amount in terms of 10^8',fontsize=12)\n",
    "ax.set_title('Original data vs predicted data',fontsize =16)\n",
    "ax.plot(raw_values[train_size:len(supervised_values)],label='actual')\n",
    "ax.plot(predictions,label='prediction')\n",
    "# ax.set_xlabel('xlabel')\n",
    "# ax.set_ylabel('ylabel')\n",
    "# plt.plot(raw_values[train_size:len(supervised_values)],label='actual')\n",
    "# plt.plot(predictions,label='prediction')\n",
    "ax.legend(loc='upper right',shadow=False,fontsize='large')\n",
    "# plt.title('Original data vs predicted data', fontsize=16)\n",
    "# # ax = plt.gca()\n",
    "# # ax.get_yaxis().set_scientific().set_useOffset(False)\n",
    "# # plt.set_xlabel('xlabel')\n",
    "# ax1.set_xlabel('time (s)')\n",
    "# plt.xlabel(xlabel='Number of epochs')\n",
    "# # plt.set_ylabel('ylabel')\n",
    "# plt.ylabel(ylabel='Claim amount in terms of 10^8')\n",
    "# plt.legend()\n",
    "plt.show()"
   ]
  },
  {
   "cell_type": "markdown",
   "metadata": {},
   "source": [
    "## <hr>\n",
    "## Prediction part starts"
   ]
  },
  {
   "cell_type": "code",
   "execution_count": 29,
   "metadata": {},
   "outputs": [
    {
     "name": "stdout",
     "output_type": "stream",
     "text": [
      "        ENTRY_TIME  CLAIMED_SUM\n",
      "179583  2019-06-20  63781565.23\n",
      "668076  2019-06-25   3459208.57\n",
      "668164  2019-06-26   3683470.00\n",
      "671271  2019-06-29    466280.00\n",
      "671283  2019-07-02   6768544.00\n",
      "671286  2019-07-03     38000.00\n",
      "674297  2019-07-05   5719331.10\n",
      "674313  2019-07-10    282523.83\n",
      "674316  2019-07-13    294112.00\n"
     ]
    }
   ],
   "source": [
    "latest_ten=dff.iloc[-9:]\n",
    "print(latest_ten)"
   ]
  },
  {
   "cell_type": "code",
   "execution_count": 41,
   "metadata": {},
   "outputs": [
    {
     "name": "stdout",
     "output_type": "stream",
     "text": [
      "294112.0\n"
     ]
    }
   ],
   "source": [
    "val1=dff.tail(1)\n",
    "f=np.array(pd.DataFrame(val1).iloc[0]['CLAIMED_SUM'])\n",
    "print (f)\n",
    "scaler=MinMaxScaler(feature_range=(-1,1))\n",
    "f = np.reshape(f, (1, 1))\n",
    "scale=scaler.fit(f)\n",
    "train =f.reshape(1,1)\n",
    "train_scaled=scaler.transform(train)"
   ]
  },
  {
   "cell_type": "code",
   "execution_count": 42,
   "metadata": {
    "collapsed": true
   },
   "outputs": [],
   "source": [
    "import os"
   ]
  },
  {
   "cell_type": "code",
   "execution_count": null,
   "metadata": {
    "collapsed": true
   },
   "outputs": [],
   "source": [
    "dname='modelTimeSeries.h5'\n",
    "lstm_model.save(os.path.join('/home/rasello/projects/AAR_JUPYTER',dname))"
   ]
  },
  {
   "cell_type": "code",
   "execution_count": 43,
   "metadata": {
    "collapsed": true
   },
   "outputs": [],
   "source": [
    "from keras.models import load_model\n",
    "modelV = load_model(os.path.join('/home/rasello/projects/AAR_JUPYTER','modelTimeSeries.h5'))"
   ]
  },
  {
   "cell_type": "code",
   "execution_count": 48,
   "metadata": {
    "collapsed": true
   },
   "outputs": [],
   "source": [
    "# initial record\n",
    "initial = train_scaled\n",
    "# store prediction\n",
    "prediction = []\n",
    "# range 3 because we want the prediction for next 40 months\n",
    "for i in range(4):\n",
    "    # predict \n",
    "    yhat = forecast_lstm(modelV, 1, initial)\n",
    "    # inverse prediction to it's original value\n",
    "    yhat_inver = scaler.inverse_transform(np.reshape(yhat,(1,1)))\n",
    "    # append to our prediction variable\n",
    "    prediction.append(yhat_inver)\n",
    "    # re initial our initial variable so that it feed the current predicted value as input for forecast\n",
    "    initial = np.array([yhat])"
   ]
  },
  {
   "cell_type": "code",
   "execution_count": 49,
   "metadata": {
    "collapsed": true
   },
   "outputs": [],
   "source": [
    "prediction = np.concatenate(prediction, axis=0 ).tolist()\n",
    "prediction = [item for sublist in prediction for item in sublist]\n",
    "prediction = pd.DataFrame(prediction)"
   ]
  },
  {
   "cell_type": "code",
   "execution_count": 50,
   "metadata": {
    "collapsed": true
   },
   "outputs": [],
   "source": [
    "from datetime import datetime\n",
    "date=datetime.now().date()\n",
    "\n",
    "\n",
    "rng = pd.date_range(str(date), periods=4)\n",
    "rng = pd.DataFrame(rng)\n",
    "prediction = pd.merge(rng, prediction, left_index=True, right_index=True, how='outer')\n",
    "prediction.set_index('0_x')\n",
    "prediction.columns = ['ENTRY_TIME', 'CLAIMED_SUM']\n",
    "# prediction"
   ]
  },
  {
   "cell_type": "code",
   "execution_count": 51,
   "metadata": {},
   "outputs": [
    {
     "data": {
      "text/html": [
       "<div>\n",
       "<style scoped>\n",
       "    .dataframe tbody tr th:only-of-type {\n",
       "        vertical-align: middle;\n",
       "    }\n",
       "\n",
       "    .dataframe tbody tr th {\n",
       "        vertical-align: top;\n",
       "    }\n",
       "\n",
       "    .dataframe thead th {\n",
       "        text-align: right;\n",
       "    }\n",
       "</style>\n",
       "<table border=\"1\" class=\"dataframe\">\n",
       "  <thead>\n",
       "    <tr style=\"text-align: right;\">\n",
       "      <th></th>\n",
       "      <th>ENTRY_TIME</th>\n",
       "      <th>CLAIMED_SUM</th>\n",
       "    </tr>\n",
       "  </thead>\n",
       "  <tbody>\n",
       "    <tr>\n",
       "      <th>0</th>\n",
       "      <td>2019-07-31</td>\n",
       "      <td>294112.65625</td>\n",
       "    </tr>\n",
       "    <tr>\n",
       "      <th>1</th>\n",
       "      <td>2019-08-01</td>\n",
       "      <td>294112.71875</td>\n",
       "    </tr>\n",
       "    <tr>\n",
       "      <th>2</th>\n",
       "      <td>2019-08-02</td>\n",
       "      <td>294112.65625</td>\n",
       "    </tr>\n",
       "    <tr>\n",
       "      <th>3</th>\n",
       "      <td>2019-08-03</td>\n",
       "      <td>294112.56250</td>\n",
       "    </tr>\n",
       "  </tbody>\n",
       "</table>\n",
       "</div>"
      ],
      "text/plain": [
       "  ENTRY_TIME   CLAIMED_SUM\n",
       "0 2019-07-31  294112.65625\n",
       "1 2019-08-01  294112.71875\n",
       "2 2019-08-02  294112.65625\n",
       "3 2019-08-03  294112.56250"
      ]
     },
     "execution_count": 51,
     "metadata": {},
     "output_type": "execute_result"
    }
   ],
   "source": [
    "prediction"
   ]
  },
  {
   "cell_type": "code",
   "execution_count": 52,
   "metadata": {},
   "outputs": [
    {
     "name": "stderr",
     "output_type": "stream",
     "text": [
      "/home/rasello/.local/lib/python3.6/site-packages/ipykernel_launcher.py:3: SettingWithCopyWarning: \n",
      "A value is trying to be set on a copy of a slice from a DataFrame.\n",
      "Try using .loc[row_indexer,col_indexer] = value instead\n",
      "\n",
      "See the caveats in the documentation: http://pandas.pydata.org/pandas-docs/stable/user_guide/indexing.html#returning-a-view-versus-a-copy\n",
      "  This is separate from the ipykernel package so we can avoid doing imports until\n"
     ]
    },
    {
     "data": {
      "text/plain": [
       "['2019-06-20',\n",
       " '2019-06-25',\n",
       " '2019-06-26',\n",
       " '2019-06-29',\n",
       " '2019-07-02',\n",
       " '2019-07-03',\n",
       " '2019-07-05',\n",
       " '2019-07-10',\n",
       " '2019-07-13',\n",
       " '2019-08-01',\n",
       " '2019-08-02',\n",
       " '2019-08-03']"
      ]
     },
     "execution_count": 52,
     "metadata": {},
     "output_type": "execute_result"
    }
   ],
   "source": [
    "prediction = prediction.iloc[1:]\n",
    "prediction\n",
    "prediction['ENTRY_TIME'] = pd.to_datetime(prediction['ENTRY_TIME'], format='%Y-%m-%d HH:MM:SSSSSS').dt.strftime(date_format='%Y-%m-%d')\n",
    "\n",
    "dates=[]\n",
    "claimed_amount=[]\n",
    "for i in latest_ten.ENTRY_TIME:\n",
    "    dates.append(i)    \n",
    "for j in prediction.ENTRY_TIME:\n",
    "    dates.append(j)\n",
    "for k in latest_ten.CLAIMED_SUM:\n",
    "    claimed_amount.append(k)\n",
    "for l in prediction.CLAIMED_SUM:\n",
    "    claimed_amount.append(l)\n",
    "dates"
   ]
  },
  {
   "cell_type": "code",
   "execution_count": 53,
   "metadata": {},
   "outputs": [
    {
     "data": {
      "text/plain": [
       "[63781565.23,\n",
       " 3459208.5700000003,\n",
       " 3683470.0,\n",
       " 466280.0,\n",
       " 6768544.0,\n",
       " 38000.0,\n",
       " 5719331.1,\n",
       " 282523.83,\n",
       " 294112.0,\n",
       " 294112.71875,\n",
       " 294112.65625,\n",
       " 294112.5625]"
      ]
     },
     "execution_count": 53,
     "metadata": {},
     "output_type": "execute_result"
    }
   ],
   "source": [
    "claimed_amount"
   ]
  },
  {
   "cell_type": "code",
   "execution_count": null,
   "metadata": {
    "collapsed": true
   },
   "outputs": [],
   "source": [
    "latest_ten.append(prediction, ignore_index=True)"
   ]
  },
  {
   "cell_type": "code",
   "execution_count": 128,
   "metadata": {},
   "outputs": [
    {
     "data": {
      "text/html": [
       "<div>\n",
       "<style scoped>\n",
       "    .dataframe tbody tr th:only-of-type {\n",
       "        vertical-align: middle;\n",
       "    }\n",
       "\n",
       "    .dataframe tbody tr th {\n",
       "        vertical-align: top;\n",
       "    }\n",
       "\n",
       "    .dataframe thead th {\n",
       "        text-align: right;\n",
       "    }\n",
       "</style>\n",
       "<table border=\"1\" class=\"dataframe\">\n",
       "  <thead>\n",
       "    <tr style=\"text-align: right;\">\n",
       "      <th></th>\n",
       "      <th>CLAIMED_SUM</th>\n",
       "      <th>ENTRY_TIME</th>\n",
       "    </tr>\n",
       "  </thead>\n",
       "  <tbody>\n",
       "    <tr>\n",
       "      <th>179583</th>\n",
       "      <td>6.378157e+07</td>\n",
       "      <td>2019-06-20</td>\n",
       "    </tr>\n",
       "    <tr>\n",
       "      <th>668076</th>\n",
       "      <td>3.459209e+06</td>\n",
       "      <td>2019-06-25</td>\n",
       "    </tr>\n",
       "    <tr>\n",
       "      <th>668164</th>\n",
       "      <td>3.683470e+06</td>\n",
       "      <td>2019-06-26</td>\n",
       "    </tr>\n",
       "    <tr>\n",
       "      <th>671271</th>\n",
       "      <td>4.662800e+05</td>\n",
       "      <td>2019-06-29</td>\n",
       "    </tr>\n",
       "    <tr>\n",
       "      <th>671283</th>\n",
       "      <td>6.768544e+06</td>\n",
       "      <td>2019-07-02</td>\n",
       "    </tr>\n",
       "    <tr>\n",
       "      <th>671286</th>\n",
       "      <td>3.800000e+04</td>\n",
       "      <td>2019-07-03</td>\n",
       "    </tr>\n",
       "    <tr>\n",
       "      <th>674297</th>\n",
       "      <td>5.719331e+06</td>\n",
       "      <td>2019-07-05</td>\n",
       "    </tr>\n",
       "    <tr>\n",
       "      <th>674313</th>\n",
       "      <td>2.825238e+05</td>\n",
       "      <td>2019-07-10</td>\n",
       "    </tr>\n",
       "    <tr>\n",
       "      <th>674316</th>\n",
       "      <td>2.941120e+05</td>\n",
       "      <td>2019-07-13</td>\n",
       "    </tr>\n",
       "    <tr>\n",
       "      <th>0</th>\n",
       "      <td>2.941126e+05</td>\n",
       "      <td>2019-07-31 00:00:00</td>\n",
       "    </tr>\n",
       "    <tr>\n",
       "      <th>1</th>\n",
       "      <td>2.941127e+05</td>\n",
       "      <td>2019-08-01 00:00:00</td>\n",
       "    </tr>\n",
       "    <tr>\n",
       "      <th>2</th>\n",
       "      <td>2.941126e+05</td>\n",
       "      <td>2019-08-02 00:00:00</td>\n",
       "    </tr>\n",
       "    <tr>\n",
       "      <th>3</th>\n",
       "      <td>2.941125e+05</td>\n",
       "      <td>2019-08-03 00:00:00</td>\n",
       "    </tr>\n",
       "  </tbody>\n",
       "</table>\n",
       "</div>"
      ],
      "text/plain": [
       "         CLAIMED_SUM           ENTRY_TIME\n",
       "179583  6.378157e+07           2019-06-20\n",
       "668076  3.459209e+06           2019-06-25\n",
       "668164  3.683470e+06           2019-06-26\n",
       "671271  4.662800e+05           2019-06-29\n",
       "671283  6.768544e+06           2019-07-02\n",
       "671286  3.800000e+04           2019-07-03\n",
       "674297  5.719331e+06           2019-07-05\n",
       "674313  2.825238e+05           2019-07-10\n",
       "674316  2.941120e+05           2019-07-13\n",
       "0       2.941126e+05  2019-07-31 00:00:00\n",
       "1       2.941127e+05  2019-08-01 00:00:00\n",
       "2       2.941126e+05  2019-08-02 00:00:00\n",
       "3       2.941125e+05  2019-08-03 00:00:00"
      ]
     },
     "execution_count": 128,
     "metadata": {},
     "output_type": "execute_result"
    }
   ],
   "source": [
    "combination=[latest_ten,prediction]\n",
    "results=pd.concat(combination, sort=True)\n",
    "results"
   ]
  },
  {
   "cell_type": "markdown",
   "metadata": {},
   "source": [
    "## CONNECTION USING PYODBC"
   ]
  },
  {
   "cell_type": "code",
   "execution_count": null,
   "metadata": {
    "collapsed": true
   },
   "outputs": [],
   "source": [
    "import pyodbc "
   ]
  },
  {
   "cell_type": "code",
   "execution_count": null,
   "metadata": {
    "collapsed": true
   },
   "outputs": [],
   "source": [
    "cnxn = pyodbc.connect(\"Driver={ODBC Driver 17.2 for SQL Server};\"\n",
    "                    \"Server=41.221.51.164;\"\n",
    "                      \"Database=eOXEGEN;\"\n",
    "                      \"Trusted_Connection=yes;\"\n",
    "                      \"uid=sa;\"\n",
    "                      \"pwd=X$OUDDVC8)\")"
   ]
  },
  {
   "cell_type": "code",
   "execution_count": null,
   "metadata": {
    "collapsed": true
   },
   "outputs": [],
   "source": [
    "cursor = cnxn.cursor()\n",
    "query='SELECT * FROM [eOXEGEN].[dbo].[HMS_CITY]'\n",
    "cursor.execute(query)\n",
    "df = pd.read_sql(query, cnxn)\n",
    "\n",
    "for row in cursor:\n",
    "    print('row = %r' % (row,))"
   ]
  },
  {
   "cell_type": "code",
   "execution_count": 5,
   "metadata": {
    "collapsed": true
   },
   "outputs": [],
   "source": [
    "def fun():\n",
    "    list1=[]\n",
    "    list2=[]\n",
    "    list1.append(5)\n",
    "    list1.append('apple')\n",
    "    list1.append(True)\n",
    "#     list2.append(\"orange\")\n",
    "    dic={'a':list1, 'b':list2}\n",
    "    return dic\n",
    "    "
   ]
  },
  {
   "cell_type": "code",
   "execution_count": 8,
   "metadata": {},
   "outputs": [
    {
     "name": "stdout",
     "output_type": "stream",
     "text": [
      "[]\n"
     ]
    }
   ],
   "source": [
    "a=fun()\n",
    "print(a['b'])"
   ]
  },
  {
   "cell_type": "code",
   "execution_count": 9,
   "metadata": {},
   "outputs": [
    {
     "data": {
      "text/plain": [
       "[1, 2, 3]"
      ]
     },
     "execution_count": 9,
     "metadata": {},
     "output_type": "execute_result"
    }
   ],
   "source": [
    "list1=[]\n",
    "list2=[1,2,3]\n",
    "list1=list1+list2\n",
    "list1"
   ]
  },
  {
   "cell_type": "code",
   "execution_count": 10,
   "metadata": {
    "collapsed": true
   },
   "outputs": [],
   "source": [
    "list3=[4,5]\n",
    "list1=list1+list3"
   ]
  },
  {
   "cell_type": "code",
   "execution_count": 11,
   "metadata": {},
   "outputs": [
    {
     "name": "stdout",
     "output_type": "stream",
     "text": [
      "[1, 2, 3, 4, 5]\n"
     ]
    }
   ],
   "source": [
    "print(list1)"
   ]
  },
  {
   "cell_type": "code",
   "execution_count": null,
   "metadata": {
    "collapsed": true
   },
   "outputs": [],
   "source": [
    "for i in"
   ]
  }
 ],
 "metadata": {
  "kernelspec": {
   "display_name": "Python 3",
   "language": "python",
   "name": "python3"
  },
  "language_info": {
   "codemirror_mode": {
    "name": "ipython",
    "version": 3
   },
   "file_extension": ".py",
   "mimetype": "text/x-python",
   "name": "python",
   "nbconvert_exporter": "python",
   "pygments_lexer": "ipython3",
   "version": "3.6.5"
  }
 },
 "nbformat": 4,
 "nbformat_minor": 2
}
